{
 "cells": [
  {
   "cell_type": "markdown",
   "id": "f001beed",
   "metadata": {},
   "source": [
    "A company manufactures and sells a product\n",
    "\n",
    "They get to set the price\n",
    "\n",
    "It costs \\$50 / unit to manufacture\n",
    "\n",
    "\n",
    "The price drives demand through a demand function\n",
    "\n",
    "$$ D = \\alpha P^\\beta$$\n",
    "\n",
    "where $ \\alpha > 0$ and $ \\beta < -1 $.\n",
    "\n",
    "Let's assume $\\alpha = 3777178$ and $\\beta = -2.154$.\n",
    "\n",
    "\n",
    "This is called the\n",
    "## Constant Elasticity of Demand Function\n",
    "\n",
    "Calculus solution:\n",
    "$$ p=\\frac{50\\beta}{\\beta+1} $$"
   ]
  },
  {
   "cell_type": "code",
   "execution_count": null,
   "id": "d33dbde0",
   "metadata": {},
   "outputs": [],
   "source": []
  },
  {
   "cell_type": "code",
   "execution_count": null,
   "id": "553611ea",
   "metadata": {},
   "outputs": [],
   "source": []
  },
  {
   "cell_type": "code",
   "execution_count": null,
   "id": "69dc3290",
   "metadata": {},
   "outputs": [],
   "source": []
  },
  {
   "cell_type": "code",
   "execution_count": null,
   "id": "517c8c31",
   "metadata": {},
   "outputs": [],
   "source": []
  },
  {
   "cell_type": "code",
   "execution_count": 1,
   "id": "887b7685",
   "metadata": {},
   "outputs": [],
   "source": [
    "import numpy as np\n",
    "from scipy.optimize import minimize"
   ]
  },
  {
   "cell_type": "markdown",
   "id": "7699d182",
   "metadata": {},
   "source": [
    "# Elasticity of Demand"
   ]
  },
  {
   "cell_type": "code",
   "execution_count": 2,
   "id": "4f20e401",
   "metadata": {},
   "outputs": [],
   "source": [
    "def neg_profit(price):\n",
    "    demand = 3777178*(price[0]**(-2.154))\n",
    "    revenue = price[0]*demand\n",
    "    cost = demand*50\n",
    "    profit = revenue-cost\n",
    "    return(-profit)"
   ]
  },
  {
   "cell_type": "code",
   "execution_count": 3,
   "id": "36ecc6ee",
   "metadata": {},
   "outputs": [
    {
     "name": "stdout",
     "output_type": "stream",
     "text": [
      "8634.26748658103\n",
      "9292.60454653096\n",
      "7760.092168095631\n"
     ]
    }
   ],
   "source": [
    "# what is the profit for a few prices?\n",
    "print(-neg_profit([75]))\n",
    "print(-neg_profit([100]))\n",
    "print(-neg_profit([150]))"
   ]
  },
  {
   "cell_type": "code",
   "execution_count": 4,
   "id": "cdcc40a7",
   "metadata": {},
   "outputs": [
    {
     "name": "stdout",
     "output_type": "stream",
     "text": [
      "93.32755632582322\n",
      "9343.94630933845\n"
     ]
    }
   ],
   "source": [
    "# the calculus answer\n",
    "opt_price = -2.154*50/(-2.154 + 1)\n",
    "print(opt_price)\n",
    "print(-neg_profit([opt_price]))"
   ]
  },
  {
   "cell_type": "code",
   "execution_count": 5,
   "id": "d7f99bbe",
   "metadata": {},
   "outputs": [],
   "source": [
    "optProfitNLP = minimize(neg_profit,[75],bounds=[(0,1000)],tol=1e-8) #tolerance is on objective value, not decision variables\n"
   ]
  },
  {
   "cell_type": "code",
   "execution_count": 6,
   "id": "6b8763fd",
   "metadata": {},
   "outputs": [
    {
     "data": {
      "text/plain": [
       "array([93.32749289])"
      ]
     },
     "execution_count": 6,
     "metadata": {},
     "output_type": "execute_result"
    }
   ],
   "source": [
    "optProfitNLP.x"
   ]
  },
  {
   "cell_type": "code",
   "execution_count": 7,
   "id": "24675b2f",
   "metadata": {},
   "outputs": [
    {
     "data": {
      "text/plain": [
       "9343.946309333083"
      ]
     },
     "execution_count": 7,
     "metadata": {},
     "output_type": "execute_result"
    }
   ],
   "source": [
    "-optProfitNLP.fun"
   ]
  },
  {
   "cell_type": "code",
   "execution_count": 8,
   "id": "e1d1e61f",
   "metadata": {},
   "outputs": [
    {
     "name": "stdout",
     "output_type": "stream",
     "text": [
      "[1000.]\n",
      "nan\n"
     ]
    },
    {
     "name": "stderr",
     "output_type": "stream",
     "text": [
      "C:\\Users\\ethan\\AppData\\Local\\Temp\\ipykernel_15500\\3156348239.py:2: RuntimeWarning: divide by zero encountered in double_scalars\n",
      "  demand = 3777178*(price[0]**(-2.154))\n",
      "C:\\Users\\ethan\\AppData\\Local\\Temp\\ipykernel_15500\\3156348239.py:3: RuntimeWarning: invalid value encountered in double_scalars\n",
      "  revenue = price[0]*demand\n"
     ]
    }
   ],
   "source": [
    "# starting at different places may lead to different solutions\n",
    "optProfitNLP = minimize(neg_profit,[15],bounds=[(0,1000)])\n",
    "print(optProfitNLP.x)\n",
    "print(-optProfitNLP.fun)\n",
    "# usually not much difference for convex programs"
   ]
  },
  {
   "cell_type": "code",
   "execution_count": null,
   "id": "097869b5",
   "metadata": {},
   "outputs": [],
   "source": []
  }
 ],
 "metadata": {
  "kernelspec": {
   "display_name": "Python 3 (ipykernel)",
   "language": "python",
   "name": "python3"
  },
  "language_info": {
   "codemirror_mode": {
    "name": "ipython",
    "version": 3
   },
   "file_extension": ".py",
   "mimetype": "text/x-python",
   "name": "python",
   "nbconvert_exporter": "python",
   "pygments_lexer": "ipython3",
   "version": "3.9.13"
  }
 },
 "nbformat": 4,
 "nbformat_minor": 5
}
