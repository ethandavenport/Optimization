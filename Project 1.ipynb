{
 "cells": [
  {
   "cell_type": "code",
   "execution_count": 2,
   "id": "a5ca74f3",
   "metadata": {},
   "outputs": [],
   "source": [
    "import numpy as np\n",
    "import gurobipy as gp\n",
    "import pandas as pd"
   ]
  },
  {
   "cell_type": "code",
   "execution_count": 2,
   "id": "369a2c52",
   "metadata": {},
   "outputs": [],
   "source": [
    "# Parts 1-3"
   ]
  },
  {
   "cell_type": "code",
   "execution_count": 16,
   "id": "c2079b0b",
   "metadata": {},
   "outputs": [],
   "source": [
    "roiMod=gp.Model()\n",
    "roiModX = roiMod.addMVar(10)"
   ]
  },
  {
   "cell_type": "code",
   "execution_count": 29,
   "id": "70ab9f9a",
   "metadata": {},
   "outputs": [],
   "source": [
    "              #print, TV,  SEO, AdWords, Facebook, LinkedIn, Instagram, Snapchat, Twitter, Email\n",
    "obj1 = np.array([3.1,  4.9, 2.4, 3.9,     1.6,      2.4,      4.6,       2.6,      3.3,     4.4])\n",
    "#obj1 = pd.read_csv(\"ROI_data.csv\")\n",
    "\n",
    "roiMod.setObjective(gp.quicksum(obj1[j] * roiModX[j] for j in range(10)),sense=gp.GRB.MAXIMIZE)\n",
    "\n",
    "conlist=[0]*4\n",
    "conlist[0] = roiMod.addConstr(roiModX[0] + roiModX[1] - roiModX[4] - roiModX[9] <= 0) #print and TV <= facebook and email\n",
    "conlist[1] = roiMod.addConstr(roiModX[4:8] - 2 * roiModX[2:3] >= 0) #high social media spending\n",
    "conlist[2] = roiMod.addConstrs(roiModX[j] <= 3 for j in range(10)) #no more than $3M\n",
    "conlist[3] = roiMod.addConstr(sum(roiModX[:]) <= 10) #budget of $10M"
   ]
  },
  {
   "cell_type": "code",
   "execution_count": 30,
   "id": "59789093",
   "metadata": {},
   "outputs": [],
   "source": [
    "roiMod.Params.OutputFlag = 0  #tell gurobi to shut up!!\n",
    "\n",
    "roiMod.optimize() # solve the model"
   ]
  },
  {
   "cell_type": "code",
   "execution_count": 31,
   "id": "f49a6d9f",
   "metadata": {},
   "outputs": [
    {
     "data": {
      "text/plain": [
       "45.6"
      ]
     },
     "execution_count": 31,
     "metadata": {},
     "output_type": "execute_result"
    }
   ],
   "source": [
    "roiMod.objVal # print the optimal objective value"
   ]
  },
  {
   "cell_type": "code",
   "execution_count": 32,
   "id": "36dd14c9",
   "metadata": {},
   "outputs": [
    {
     "data": {
      "text/plain": [
       "array([0., 3., 0., 1., 0., 0., 3., 0., 0., 3.])"
      ]
     },
     "execution_count": 32,
     "metadata": {},
     "output_type": "execute_result"
    }
   ],
   "source": [
    "roiModX.x # print the optimal decision variables"
   ]
  },
  {
   "cell_type": "code",
   "execution_count": 8,
   "id": "042ada6f",
   "metadata": {},
   "outputs": [],
   "source": [
    "# Parts 4-5"
   ]
  },
  {
   "cell_type": "code",
   "execution_count": 23,
   "id": "9b431c4b",
   "metadata": {},
   "outputs": [],
   "source": [
    "              #print, TV,  SEO, AdWords, Facebook, LinkedIn, Instagram, Snapchat, Twitter, Email\n",
    "obj2 = np.array([4.9,  2.3, 2.4, 3.9,     4.4,      4.6,      2.6,       1.9,      3.7,     2.6])\n",
    "roiMod.setObjective(gp.quicksum(obj2[j] * roiModX[j] for j in range(10)),sense=gp.GRB.MAXIMIZE)"
   ]
  },
  {
   "cell_type": "code",
   "execution_count": 24,
   "id": "8fd674cd",
   "metadata": {},
   "outputs": [],
   "source": [
    "roiMod.Params.OutputFlag = 0  #tell gurobi to shut up!!\n",
    "\n",
    "roiMod.optimize() # solve the model"
   ]
  },
  {
   "cell_type": "code",
   "execution_count": 25,
   "id": "ee53b14a",
   "metadata": {},
   "outputs": [
    {
     "data": {
      "text/plain": [
       "45.6"
      ]
     },
     "execution_count": 25,
     "metadata": {},
     "output_type": "execute_result"
    }
   ],
   "source": [
    "roiMod.objVal # print the optimal objective value"
   ]
  },
  {
   "cell_type": "code",
   "execution_count": 26,
   "id": "31fce9f8",
   "metadata": {},
   "outputs": [
    {
     "data": {
      "text/plain": [
       "array([3., 0., 0., 1., 3., 3., 0., 0., 0., 0.])"
      ]
     },
     "execution_count": 26,
     "metadata": {},
     "output_type": "execute_result"
    }
   ],
   "source": [
    "roiModX.x # print the optimal decision variables"
   ]
  },
  {
   "cell_type": "code",
   "execution_count": 13,
   "id": "5e48bc24",
   "metadata": {},
   "outputs": [],
   "source": [
    "#Yes, the allocations are different between the two, but both produce the same overall ROI."
   ]
  },
  {
   "cell_type": "code",
   "execution_count": 14,
   "id": "0ac085c9",
   "metadata": {},
   "outputs": [],
   "source": [
    "#Assuming the first ROI data is correct, if you were to use the second allocation,\n",
    "#how much lower would the objective be relative to the optimal objective?"
   ]
  },
  {
   "cell_type": "code",
   "execution_count": 10,
   "id": "7d18221c",
   "metadata": {},
   "outputs": [
    {
     "data": {
      "text/plain": [
       "20.4"
      ]
     },
     "execution_count": 10,
     "metadata": {},
     "output_type": "execute_result"
    }
   ],
   "source": [
    "# optimize the second model before running\n",
    "delta = roiModX.x * [obj2 - obj1]\n",
    "sum(sum(delta))"
   ]
  },
  {
   "cell_type": "code",
   "execution_count": 16,
   "id": "2684330d",
   "metadata": {},
   "outputs": [],
   "source": [
    "#Assuming the second ROI data is correct, if you used the first allocation,\n",
    "#how much lower would the objective be relative to the optimal objective?"
   ]
  },
  {
   "cell_type": "code",
   "execution_count": 15,
   "id": "ec5b0b75",
   "metadata": {},
   "outputs": [
    {
     "data": {
      "text/plain": [
       "19.200000000000003"
      ]
     },
     "execution_count": 15,
     "metadata": {},
     "output_type": "execute_result"
    }
   ],
   "source": [
    "# optimize the first model before running\n",
    "delta = roiModX.x * [obj1 - obj2]\n",
    "sum(sum(delta))"
   ]
  },
  {
   "cell_type": "code",
   "execution_count": 18,
   "id": "05d8482c",
   "metadata": {},
   "outputs": [],
   "source": [
    "# Question 6"
   ]
  },
  {
   "cell_type": "code",
   "execution_count": 33,
   "id": "dc165274",
   "metadata": {},
   "outputs": [
    {
     "data": {
      "text/plain": [
       "array([-inf,  3.9, -inf,  3.3, -inf, -inf,  3.9, -inf, -inf,  3.9])"
      ]
     },
     "execution_count": 33,
     "metadata": {},
     "output_type": "execute_result"
    }
   ],
   "source": [
    "roiModX.SAObjLow"
   ]
  },
  {
   "cell_type": "code",
   "execution_count": 34,
   "id": "97632c96",
   "metadata": {},
   "outputs": [
    {
     "data": {
      "text/plain": [
       "array([3.9, inf, 3.9, 4.4, 3.9, 3.9, inf, 3.9, 3.9, inf])"
      ]
     },
     "execution_count": 34,
     "metadata": {},
     "output_type": "execute_result"
    }
   ],
   "source": [
    "roiModX.SAObjUp"
   ]
  },
  {
   "cell_type": "code",
   "execution_count": 21,
   "id": "19c3ecb8",
   "metadata": {},
   "outputs": [],
   "source": [
    "# Question 7"
   ]
  },
  {
   "cell_type": "code",
   "execution_count": 24,
   "id": "645b3c9a",
   "metadata": {},
   "outputs": [
    {
     "ename": "TypeError",
     "evalue": "unsupported operand type(s) for +: 'MLinExpr' and 'list'",
     "output_type": "error",
     "traceback": [
      "\u001b[1;31m---------------------------------------------------------------------------\u001b[0m",
      "\u001b[1;31mTypeError\u001b[0m                                 Traceback (most recent call last)",
      "\u001b[1;32m~\\AppData\\Local\\Temp\\ipykernel_17520\\684078364.py\u001b[0m in \u001b[0;36m<module>\u001b[1;34m\u001b[0m\n\u001b[0;32m     10\u001b[0m \u001b[1;33m\u001b[0m\u001b[0m\n\u001b[0;32m     11\u001b[0m     \u001b[0mroiMod\u001b[0m\u001b[1;33m.\u001b[0m\u001b[0msetObjective\u001b[0m\u001b[1;33m(\u001b[0m\u001b[0mgp\u001b[0m\u001b[1;33m.\u001b[0m\u001b[0mquicksum\u001b[0m\u001b[1;33m(\u001b[0m\u001b[0mobj3\u001b[0m\u001b[1;33m[\u001b[0m\u001b[0mj\u001b[0m\u001b[1;33m]\u001b[0m \u001b[1;33m*\u001b[0m \u001b[0mroiModX\u001b[0m\u001b[1;33m[\u001b[0m\u001b[0mj\u001b[0m\u001b[1;33m]\u001b[0m \u001b[1;32mfor\u001b[0m \u001b[0mj\u001b[0m \u001b[1;32min\u001b[0m \u001b[0mrange\u001b[0m\u001b[1;33m(\u001b[0m\u001b[1;36m10\u001b[0m\u001b[1;33m)\u001b[0m\u001b[1;33m)\u001b[0m\u001b[1;33m,\u001b[0m\u001b[0msense\u001b[0m\u001b[1;33m=\u001b[0m\u001b[0mgp\u001b[0m\u001b[1;33m.\u001b[0m\u001b[0mGRB\u001b[0m\u001b[1;33m.\u001b[0m\u001b[0mMAXIMIZE\u001b[0m\u001b[1;33m)\u001b[0m\u001b[1;33m\u001b[0m\u001b[1;33m\u001b[0m\u001b[0m\n\u001b[1;32m---> 12\u001b[1;33m     \u001b[0mnew_budget\u001b[0m \u001b[1;33m+=\u001b[0m \u001b[0mgp\u001b[0m\u001b[1;33m.\u001b[0m\u001b[0mquicksum\u001b[0m\u001b[1;33m(\u001b[0m\u001b[0mobj3\u001b[0m\u001b[1;33m[\u001b[0m\u001b[0mj\u001b[0m\u001b[1;33m]\u001b[0m \u001b[1;33m*\u001b[0m \u001b[0mroiModX\u001b[0m\u001b[1;33m[\u001b[0m\u001b[0mj\u001b[0m\u001b[1;33m]\u001b[0m \u001b[1;33m/\u001b[0m \u001b[1;36m200\u001b[0m \u001b[1;32mfor\u001b[0m \u001b[0mj\u001b[0m \u001b[1;32min\u001b[0m \u001b[0mrange\u001b[0m\u001b[1;33m(\u001b[0m\u001b[1;36m10\u001b[0m\u001b[1;33m)\u001b[0m\u001b[1;33m)\u001b[0m\u001b[1;33m\u001b[0m\u001b[1;33m\u001b[0m\u001b[0m\n\u001b[0m\u001b[0;32m     13\u001b[0m     \u001b[0mold_budget\u001b[0m \u001b[1;33m+=\u001b[0m \u001b[0mnew_budget\u001b[0m\u001b[1;33m[\u001b[0m\u001b[1;33m-\u001b[0m\u001b[1;36m1\u001b[0m\u001b[1;33m]\u001b[0m\u001b[1;33m\u001b[0m\u001b[1;33m\u001b[0m\u001b[0m\n\u001b[0;32m     14\u001b[0m \u001b[1;33m\u001b[0m\u001b[0m\n",
      "\u001b[1;32msrc\\gurobipy\\mlinexpr.pxi\u001b[0m in \u001b[0;36mgurobipy.MLinExpr.__radd__\u001b[1;34m()\u001b[0m\n",
      "\u001b[1;31mTypeError\u001b[0m: unsupported operand type(s) for +: 'MLinExpr' and 'list'"
     ]
    }
   ],
   "source": [
    "ROI = [0]\n",
    "old_budget = [10]\n",
    "new_budget = []\n",
    "\n",
    "for i in range(12):\n",
    "    \n",
    "             #print, TV,  SEO, AdWords, Facebook, LinkedIn, Instagram, Snapchat, Twitter, Email\n",
    "    obj3 = np.array([3.1,  4.9, 2.4, 3.9,     1.6,      2.4,      4.6,       2.6,      3.3,     4.4])\n",
    "    #obj1 = pd.read_csv(\"ROI_data.csv\")\n",
    "\n",
    "    roiMod.setObjective(gp.quicksum(obj3[j] * roiModX[j] / 100 for j in range(10)),sense=gp.GRB.MAXIMIZE)\n",
    "    new_budget += gp.quicksum(obj3[j] * roiModX[j] / 200 for j in range(10))\n",
    "    old_budget += new_budget[-1]\n",
    "\n",
    "    conlist=[0]*4\n",
    "    conlist[0] = roiMod.addConstr(roiModX[0] + roiModX[1] - roiModX[4] - roiModX[9] <= 0) #print and TV <= facebook and email\n",
    "    conlist[1] = roiMod.addConstr(roiModX[4:8] - 2 * roiModX[2:3] >= 0) #high social media spending\n",
    "    conlist[2] = roiMod.addConstrs(roiModX[j] <= 3 for j in range(10)) #no more than $3M\n",
    "    conlist[3] = roiMod.addConstr(sum(roiModX[:]) <= new_budget) #budget of $10M\n",
    "\n",
    "    roiMod.Params.OutputFlag = 0  #tell gurobi to shut up!!\n",
    "    roiMod.optimize() # solve the model\n",
    "    \n",
    "    ROI += [roiMod.objVal/1000]\n",
    "    print(roiModX.x)\n",
    "\n",
    "print(ROI)\n",
    "print(new_budget)\n",
    "print(old_budget)"
   ]
  },
  {
   "cell_type": "code",
   "execution_count": null,
   "id": "43a3c6c5",
   "metadata": {},
   "outputs": [],
   "source": []
  },
  {
   "cell_type": "code",
   "execution_count": null,
   "id": "fcfaa0c2",
   "metadata": {},
   "outputs": [],
   "source": []
  }
 ],
 "metadata": {
  "kernelspec": {
   "display_name": "Python 3 (ipykernel)",
   "language": "python",
   "name": "python3"
  },
  "language_info": {
   "codemirror_mode": {
    "name": "ipython",
    "version": 3
   },
   "file_extension": ".py",
   "mimetype": "text/x-python",
   "name": "python",
   "nbconvert_exporter": "python",
   "pygments_lexer": "ipython3",
   "version": "3.9.13"
  }
 },
 "nbformat": 4,
 "nbformat_minor": 5
}
