{
 "cells": [
  {
   "cell_type": "code",
   "execution_count": 1,
   "id": "4ae5dc75",
   "metadata": {},
   "outputs": [],
   "source": [
    "import numpy as np\n",
    "import gurobipy as gp\n",
    "from scipy.optimize import minimize"
   ]
  },
  {
   "cell_type": "code",
   "execution_count": null,
   "id": "a2f655f5",
   "metadata": {},
   "outputs": [],
   "source": [
    "# Question 1"
   ]
  },
  {
   "cell_type": "code",
   "execution_count": 5,
   "id": "4724c59c",
   "metadata": {},
   "outputs": [],
   "source": [
    "def labcap(lc):\n",
    "    neg_machines = -0.05*lc[0]**(2/3)*lc[1]**(1/3)  \n",
    "    return neg_machines"
   ]
  },
  {
   "cell_type": "code",
   "execution_count": 9,
   "id": "d501add0",
   "metadata": {},
   "outputs": [],
   "source": [
    "def confun(x):\n",
    "    cost = 100000 - (12*x[0] + 15*x[1])\n",
    "    return cost"
   ]
  },
  {
   "cell_type": "code",
   "execution_count": 10,
   "id": "0c359b5d",
   "metadata": {},
   "outputs": [],
   "source": [
    "# now we create a dictionary telling the solver what type of constraint and what the function is\n",
    "constr1 = {'type':'ineq', 'fun': confun}\n",
    "# then we put all our constraint dictionaries into a list\n",
    "constraints = [constr1]"
   ]
  },
  {
   "cell_type": "code",
   "execution_count": 11,
   "id": "369df575",
   "metadata": {},
   "outputs": [],
   "source": [
    "max_machines = minimize(labcap,[4000,3000],constraints=constraints)"
   ]
  },
  {
   "cell_type": "code",
   "execution_count": 12,
   "id": "4c37ba3a",
   "metadata": {},
   "outputs": [
    {
     "data": {
      "text/plain": [
       "array([5555.49126406, 2222.27365542])"
      ]
     },
     "execution_count": 12,
     "metadata": {},
     "output_type": "execute_result"
    }
   ],
   "source": [
    "max_machines.x"
   ]
  },
  {
   "cell_type": "code",
   "execution_count": 14,
   "id": "811d0367",
   "metadata": {
    "scrolled": true
   },
   "outputs": [
    {
     "data": {
      "text/plain": [
       "204.66841656372242"
      ]
     },
     "execution_count": 14,
     "metadata": {},
     "output_type": "execute_result"
    }
   ],
   "source": [
    "-max_machines.fun"
   ]
  },
  {
   "cell_type": "code",
   "execution_count": null,
   "id": "09e62b86",
   "metadata": {},
   "outputs": [],
   "source": [
    "# Question 3"
   ]
  },
  {
   "cell_type": "code",
   "execution_count": null,
   "id": "d323e9df",
   "metadata": {},
   "outputs": [],
   "source": [
    "x = [0,1,2,3,4,5]\n",
    "y = [0.5, 0.61, 0.72, 0.79, 0.902, 1.02]\n",
    "\n",
    "lm = gp.Model()\n",
    "beta = lm.addMVar(2,lb=-np.inf)\n",
    "lm.setObjective(gp.quicksum((beta[0] + beta[1]*x[i] - y[i])**2 for i in range(6)))\n",
    "\n",
    "lm.Params.OutputFlag = 0 # tell gurobi to shut up!!\n",
    "lm.optimize()"
   ]
  },
  {
   "cell_type": "code",
   "execution_count": null,
   "id": "04a65073",
   "metadata": {},
   "outputs": [],
   "source": []
  },
  {
   "cell_type": "code",
   "execution_count": null,
   "id": "25e557fd",
   "metadata": {},
   "outputs": [],
   "source": []
  },
  {
   "cell_type": "code",
   "execution_count": null,
   "id": "a98393b9",
   "metadata": {},
   "outputs": [],
   "source": []
  },
  {
   "cell_type": "code",
   "execution_count": null,
   "id": "2a8702b1",
   "metadata": {},
   "outputs": [],
   "source": []
  }
 ],
 "metadata": {
  "kernelspec": {
   "display_name": "Python 3 (ipykernel)",
   "language": "python",
   "name": "python3"
  },
  "language_info": {
   "codemirror_mode": {
    "name": "ipython",
    "version": 3
   },
   "file_extension": ".py",
   "mimetype": "text/x-python",
   "name": "python",
   "nbconvert_exporter": "python",
   "pygments_lexer": "ipython3",
   "version": "3.9.13"
  }
 },
 "nbformat": 4,
 "nbformat_minor": 5
}
