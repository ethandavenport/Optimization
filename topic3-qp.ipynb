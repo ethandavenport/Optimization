{
 "cells": [
  {
   "cell_type": "markdown",
   "id": "00e38812",
   "metadata": {},
   "source": [
    "# Quadratic Programming\n",
    "\n",
    "If we have a quadratic objective and linear constraints, gurobi can usually solve the problem for us.  Gurobi is way more reliable than scipy.optimize.\n",
    "\n",
    " \n",
    " \n"
   ]
  },
  {
   "cell_type": "markdown",
   "id": "1f030155",
   "metadata": {},
   "source": [
    " "
   ]
  },
  {
   "cell_type": "markdown",
   "id": "092501ec",
   "metadata": {},
   "source": [
    " "
   ]
  },
  {
   "cell_type": "markdown",
   "id": "45dcff48",
   "metadata": {},
   "source": [
    "Let's do a 3-variable example.\n",
    "\n",
    "$ \\min 5 x_1^2 + 2 x_2^2 + x_3^2 - x_1 x_2 - 0.5 x_1 x_3 + x_2 x_3 - 5 x_1 + x_2 - 2 x_3$\n",
    "\n",
    "subject to\n",
    "\n",
    "$ x_1 + x_2 + x_3 \\leq 2$"
   ]
  },
  {
   "cell_type": "code",
   "execution_count": null,
   "id": "1c5eb523",
   "metadata": {},
   "outputs": [],
   "source": []
  },
  {
   "cell_type": "code",
   "execution_count": null,
   "id": "5249a16a",
   "metadata": {},
   "outputs": [],
   "source": [
    "!pip install gurobipy"
   ]
  },
  {
   "cell_type": "code",
   "execution_count": 2,
   "id": "94fd4a7f",
   "metadata": {},
   "outputs": [],
   "source": [
    "import numpy as np\n",
    "import gurobipy as gp"
   ]
  },
  {
   "cell_type": "code",
   "execution_count": 8,
   "id": "4a9598d5",
   "metadata": {},
   "outputs": [],
   "source": [
    "qp = gp.Model()\n",
    "x = qp.addMVar(3)\n",
    "qp.setObjective(5*x[0]**2 + 2*x[1]**2 + x[2]**2 - x[0]*x[1] - 0.5*x[0]*x[2] + x[1]*x[2] - 5*x[0] + x[1] - 2*x[2])\n",
    "con1 = qp.addConstr(x[0]+x[1]+x[2] <= 2)\n",
    "qp.Params.OutputFlag = 0 # tell gurobi to shut up!!\n",
    "qp.optimize()\n"
   ]
  },
  {
   "cell_type": "code",
   "execution_count": 9,
   "id": "8a29a7a1",
   "metadata": {},
   "outputs": [
    {
     "data": {
      "text/plain": [
       "array([5.56962026e-01, 1.53750464e-09, 1.13924051e+00])"
      ]
     },
     "execution_count": 9,
     "metadata": {},
     "output_type": "execute_result"
    }
   ],
   "source": [
    "x.x"
   ]
  },
  {
   "cell_type": "code",
   "execution_count": 10,
   "id": "f09c41db",
   "metadata": {},
   "outputs": [
    {
     "data": {
      "text/plain": [
       "-2.5316455671874936"
      ]
     },
     "execution_count": 10,
     "metadata": {},
     "output_type": "execute_result"
    }
   ],
   "source": [
    "qp.objVal"
   ]
  },
  {
   "cell_type": "markdown",
   "id": "0a256f02",
   "metadata": {},
   "source": [
    "This cannot handle terms like $x_1^2 x_2$\n",
    "\n"
   ]
  },
  {
   "cell_type": "markdown",
   "id": "74892ea8",
   "metadata": {},
   "source": [
    "# Single Variable Regression"
   ]
  },
  {
   "cell_type": "code",
   "execution_count": 12,
   "id": "db0c24db",
   "metadata": {},
   "outputs": [],
   "source": [
    "x = [0,1,2,3,4,5]\n",
    "y = [0.5, 0.61, 0.72, 0.79, 0.902, 1.02]\n",
    "\n",
    "lm = gp.Model()\n",
    "beta = lm.addMVar(2,lb=-np.inf)\n",
    "lm.setObjective(gp.quicksum((beta[0] + beta[1]*x[i] - y[i])*(beta[0] + beta[1]*x[i] - y[i]) for i in range(6)))\n",
    "\n",
    "lm.Params.OutputFlag = 0 # tell gurobi to shut up!!\n",
    "lm.optimize()"
   ]
  },
  {
   "cell_type": "code",
   "execution_count": 13,
   "id": "4cbb2e0a",
   "metadata": {},
   "outputs": [
    {
     "data": {
      "text/plain": [
       "array([0.50371429, 0.10131429])"
      ]
     },
     "execution_count": 13,
     "metadata": {},
     "output_type": "execute_result"
    }
   ],
   "source": [
    "beta.x"
   ]
  },
  {
   "cell_type": "code",
   "execution_count": null,
   "id": "b367bc2f",
   "metadata": {},
   "outputs": [],
   "source": []
  }
 ],
 "metadata": {
  "kernelspec": {
   "display_name": "Python 3 (ipykernel)",
   "language": "python",
   "name": "python3"
  },
  "language_info": {
   "codemirror_mode": {
    "name": "ipython",
    "version": 3
   },
   "file_extension": ".py",
   "mimetype": "text/x-python",
   "name": "python",
   "nbconvert_exporter": "python",
   "pygments_lexer": "ipython3",
   "version": "3.9.13"
  }
 },
 "nbformat": 4,
 "nbformat_minor": 5
}
