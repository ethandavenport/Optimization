{
 "cells": [
  {
   "cell_type": "code",
   "execution_count": null,
   "metadata": {
    "id": "C13irFNMUF5_"
   },
   "outputs": [],
   "source": [
    "!pip install gurobipy"
   ]
  },
  {
   "cell_type": "code",
   "execution_count": null,
   "metadata": {
    "id": "BO1lf1NcUD-o"
   },
   "outputs": [],
   "source": [
    "import numpy as np\n",
    "import gurobipy as gp"
   ]
  },
  {
   "cell_type": "code",
   "execution_count": null,
   "metadata": {
    "id": "w5MNsiJvUD-q"
   },
   "outputs": [],
   "source": [
    "M = 10000.0\n",
    "N = 5\n",
    "distMat = np.array([[M,132,217,164,58],[132,M,290,201,79],[217,290,M,113,303],[164,201,113,M,196],[58,79,303,196,M]])\n",
    "\n"
   ]
  },
  {
   "cell_type": "code",
   "execution_count": null,
   "metadata": {
    "id": "His2Rc-_0MME"
   },
   "outputs": [],
   "source": []
  },
  {
   "cell_type": "code",
   "execution_count": null,
   "metadata": {
    "id": "_OYluXGi5QH2"
   },
   "outputs": [],
   "source": [
    "mod = gp.Model()\n",
    "x = mod.addMVar((N,N),vtype='B')\n",
    "u = mod.addMVar(N)"
   ]
  },
  {
   "cell_type": "code",
   "execution_count": null,
   "metadata": {
    "id": "I9cL63PP5QOW"
   },
   "outputs": [],
   "source": [
    "mod.setObjective(gp.quicksum(x[i,j]*distMat[i,j] for i in range(N) for j in range(N)))"
   ]
  },
  {
   "cell_type": "code",
   "execution_count": null,
   "metadata": {
    "id": "p367PlOlUD-w"
   },
   "outputs": [],
   "source": [
    "\n",
    "# leave each city once\n",
    "leave = mod.addConstrs((gp.quicksum(x[i,j] for i in range(N))==1) for j in range(N))\n",
    "# enter each city once\n",
    "enter = mod.addConstrs((gp.quicksum(x[i,j] for j in range(N))==1) for i in range(N))\n",
    "# u constraints\n",
    "ucons = mod.addConstrs((u[i] - u[j] + N*x[i,j] <= (N-1)) for i in range(1,N) for j in range(1,N) if i != j)"
   ]
  },
  {
   "cell_type": "code",
   "execution_count": null,
   "metadata": {
    "id": "fLMgz3tNUD-w"
   },
   "outputs": [],
   "source": [
    "len(ucons)"
   ]
  },
  {
   "cell_type": "code",
   "execution_count": null,
   "metadata": {
    "id": "1y022ScB0k6A"
   },
   "outputs": [],
   "source": [
    "(N-1)**2 - (N-1)"
   ]
  },
  {
   "cell_type": "code",
   "execution_count": null,
   "metadata": {
    "id": "ywhxoxuGUD-x"
   },
   "outputs": [],
   "source": [
    "mod.Params.OutputFlag = 0 # tell gurobi to shut up!!\n",
    "mod.optimize()"
   ]
  },
  {
   "cell_type": "code",
   "execution_count": null,
   "metadata": {
    "id": "RolF6acqUD-x"
   },
   "outputs": [],
   "source": [
    "mod.objVal"
   ]
  },
  {
   "cell_type": "code",
   "execution_count": null,
   "metadata": {
    "id": "v5rgPeDCUD-x"
   },
   "outputs": [],
   "source": []
  },
  {
   "cell_type": "code",
   "execution_count": null,
   "metadata": {
    "id": "o9KwnAKxmX1Q"
   },
   "outputs": [],
   "source": []
  },
  {
   "cell_type": "code",
   "execution_count": null,
   "metadata": {
    "id": "IyWnxg0_UD-y"
   },
   "outputs": [],
   "source": [
    "where = 0\n",
    "miles_traveled = 0\n",
    "print('Start in city 0.')\n",
    "for city in range(N):\n",
    "    where_new = np.where(x.x[where,:])[0][0]\n",
    "    dist = distMat[where,where_new]\n",
    "    miles_traveled += dist\n",
    "    print('Then go to city '+str(where_new)+', traveling '+str(dist)+' miles along the way.')\n",
    "    where = where_new\n",
    "print('For a total of '+str(miles_traveled)+' miles.')"
   ]
  },
  {
   "cell_type": "code",
   "execution_count": null,
   "metadata": {
    "id": "caPHIW50UD-z"
   },
   "outputs": [],
   "source": [
    "# this path may not be unique, there are other paths that are optimal\n",
    "# but they'll all have the same total miles traveled!\n",
    "# for example 0 -> 2 -> 3 -> 1 -> 4 -> 0\n",
    "# also takes 668 miles!"
   ]
  },
  {
   "cell_type": "code",
   "execution_count": null,
   "metadata": {
    "id": "KyDkr4zdUD-z"
   },
   "outputs": [],
   "source": [
    "seq = [0, 2, 3, 1, 4, 0]\n",
    "miles_traveled2 = 0\n",
    "for loc in range(N):\n",
    "    where = seq[loc]\n",
    "    where_new = seq[loc+1]\n",
    "    dist = distMat[where,where_new]\n",
    "    miles_traveled2 += dist\n",
    "print(miles_traveled2)"
   ]
  },
  {
   "cell_type": "code",
   "execution_count": null,
   "metadata": {
    "id": "zJZ1dJTWUD-z"
   },
   "outputs": [],
   "source": [
    "# I have no idea how many other paths are optimal..."
   ]
  },
  {
   "cell_type": "code",
   "execution_count": null,
   "metadata": {
    "id": "FPwvHs0GUD-z"
   },
   "outputs": [],
   "source": []
  },
  {
   "cell_type": "code",
   "execution_count": null,
   "metadata": {
    "id": "hs1Ak_0M18yU"
   },
   "outputs": [],
   "source": [
    "\n"
   ]
  },
  {
   "cell_type": "code",
   "execution_count": null,
   "metadata": {
    "id": "3za-qKJi2CGa"
   },
   "outputs": [],
   "source": []
  }
 ],
 "metadata": {
  "colab": {
   "provenance": []
  },
  "kernelspec": {
   "display_name": "Python 3 (ipykernel)",
   "language": "python",
   "name": "python3"
  },
  "language_info": {
   "codemirror_mode": {
    "name": "ipython",
    "version": 3
   },
   "file_extension": ".py",
   "mimetype": "text/x-python",
   "name": "python",
   "nbconvert_exporter": "python",
   "pygments_lexer": "ipython3",
   "version": "3.7.13"
  }
 },
 "nbformat": 4,
 "nbformat_minor": 1
}
