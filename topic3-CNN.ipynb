{
 "cells": [
  {
   "cell_type": "code",
   "execution_count": 5,
   "metadata": {
    "id": "WJ0oSikkCagm"
   },
   "outputs": [],
   "source": [
    "import tensorflow as tf\n",
    "import numpy as np\n",
    "import matplotlib.pyplot as plt\n",
    "%matplotlib inline\n"
   ]
  },
  {
   "cell_type": "code",
   "execution_count": 6,
   "metadata": {
    "id": "cC90Zc1JCag0"
   },
   "outputs": [],
   "source": [
    "mnist = tf.keras.datasets.mnist\n",
    "\n",
    "(x_train, y_train),(x_test, y_test) = mnist.load_data()\n",
    "x_train, x_test = x_train / 255.0, x_test / 255.0\n",
    "\n",
    "ndata_train = x_train.shape[0]\n",
    "ndata_test = x_test.shape[0]\n"
   ]
  },
  {
   "cell_type": "code",
   "execution_count": 7,
   "metadata": {
    "id": "lUUkaOOAAHUO"
   },
   "outputs": [
    {
     "data": {
      "image/png": "[encoded data removed]",
      "text/plain": [
       "<Figure size 640x480 with 1 Axes>"
      ]
     },
     "metadata": {},
     "output_type": "display_data"
    }
   ],
   "source": [
    "plt.pcolor( 1-x_train[9,::-1,:] , cmap = 'gray' );\n",
    "plt.axis('off');"
   ]
  },
  {
   "cell_type": "code",
   "execution_count": 8,
   "metadata": {
    "id": "TZEeLbIbXLG9"
   },
   "outputs": [
    {
     "data": {
      "text/plain": [
       "4"
      ]
     },
     "execution_count": 8,
     "metadata": {},
     "output_type": "execute_result"
    }
   ],
   "source": [
    "y_train[9]"
   ]
  },
  {
   "cell_type": "code",
   "execution_count": 9,
   "metadata": {
    "id": "WLk18_VGCag4"
   },
   "outputs": [
    {
     "data": {
      "text/plain": [
       "(28, 28, 1)"
      ]
     },
     "execution_count": 9,
     "metadata": {},
     "output_type": "execute_result"
    }
   ],
   "source": [
    "x_train = x_train.reshape((ndata_train,28,28,1)) #last shape value is number of colors (bw vs RGB)\n",
    "x_test = x_test.reshape((ndata_test,28,28,1))\n",
    "\n",
    "\n",
    "xshape = x_train.shape[1:4]\n",
    "xshape\n"
   ]
  },
  {
   "cell_type": "code",
   "execution_count": 10,
   "metadata": {
    "id": "lmqZqqbMCag8"
   },
   "outputs": [
    {
     "name": "stdout",
     "output_type": "stream",
     "text": [
      "WARNING:tensorflow:From C:\\Users\\ethan\\anaconda3\\lib\\site-packages\\keras\\src\\backend.py:873: The name tf.get_default_graph is deprecated. Please use tf.compat.v1.get_default_graph instead.\n",
      "\n"
     ]
    }
   ],
   "source": [
    "NNmodel = tf.keras.models.Sequential([\n",
    "        tf.keras.layers.Flatten(input_shape=xshape), #turn a grid into a bunch of neurons\n",
    "        tf.keras.layers.Dense(64,activation=tf.nn.relu,kernel_regularizer = tf.keras.regularizers.l1(0.0002)), #l1 = lasso\n",
    "        tf.keras.layers.Dropout(0.1),\n",
    "        tf.keras.layers.Dense(64,activation=tf.nn.sigmoid),\n",
    "        tf.keras.layers.Dense(10,activation=tf.nn.softmax)\n",
    "        ])\n",
    "# not necessarily a great neural network, just showing the many options"
   ]
  },
  {
   "cell_type": "code",
   "execution_count": 11,
   "metadata": {
    "id": "WpONfujBCag_"
   },
   "outputs": [
    {
     "name": "stdout",
     "output_type": "stream",
     "text": [
      "WARNING:tensorflow:From C:\\Users\\ethan\\anaconda3\\lib\\site-packages\\keras\\src\\optimizers\\__init__.py:309: The name tf.train.Optimizer is deprecated. Please use tf.compat.v1.train.Optimizer instead.\n",
      "\n",
      "Model: \"sequential\"\n",
      "_________________________________________________________________\n",
      " Layer (type)                Output Shape              Param #   \n",
      "=================================================================\n",
      " flatten (Flatten)           (None, 784)               0         \n",
      "                                                                 \n",
      " dense (Dense)               (None, 64)                50240     \n",
      "                                                                 \n",
      " dropout (Dropout)           (None, 64)                0         \n",
      "                                                                 \n",
      " dense_1 (Dense)             (None, 64)                4160      \n",
      "                                                                 \n",
      " dense_2 (Dense)             (None, 10)                650       \n",
      "                                                                 \n",
      "=================================================================\n",
      "Total params: 55050 (215.04 KB)\n",
      "Trainable params: 55050 (215.04 KB)\n",
      "Non-trainable params: 0 (0.00 Byte)\n",
      "_________________________________________________________________\n"
     ]
    }
   ],
   "source": [
    "NNmodel.compile(optimizer='adam',\n",
    "              loss='sparse_categorical_crossentropy',\n",
    "              metrics=['accuracy'])\n",
    "\n",
    "NNmodel.summary()"
   ]
  },
  {
   "cell_type": "code",
   "execution_count": 12,
   "metadata": {
    "id": "_zEmMpqvCahB"
   },
   "outputs": [
    {
     "name": "stdout",
     "output_type": "stream",
     "text": [
      "Epoch 1/12\n",
      "WARNING:tensorflow:From C:\\Users\\ethan\\anaconda3\\lib\\site-packages\\keras\\src\\utils\\tf_utils.py:492: The name tf.ragged.RaggedTensorValue is deprecated. Please use tf.compat.v1.ragged.RaggedTensorValue instead.\n",
      "\n",
      "WARNING:tensorflow:From C:\\Users\\ethan\\anaconda3\\lib\\site-packages\\keras\\src\\engine\\base_layer_utils.py:384: The name tf.executing_eagerly_outside_functions is deprecated. Please use tf.compat.v1.executing_eagerly_outside_functions instead.\n",
      "\n",
      "240/240 [==============================] - 6s 9ms/step - loss: 1.1279 - accuracy: 0.7840 - val_loss: 0.5608 - val_accuracy: 0.9087\n",
      "Epoch 2/12\n",
      "240/240 [==============================] - 2s 7ms/step - loss: 0.5269 - accuracy: 0.9047 - val_loss: 0.4226 - val_accuracy: 0.9296\n",
      "Epoch 3/12\n",
      "240/240 [==============================] - 2s 7ms/step - loss: 0.4266 - accuracy: 0.9215 - val_loss: 0.3611 - val_accuracy: 0.9376\n",
      "Epoch 4/12\n",
      "240/240 [==============================] - 2s 7ms/step - loss: 0.3689 - accuracy: 0.9338 - val_loss: 0.3195 - val_accuracy: 0.9468\n",
      "Epoch 5/12\n",
      "240/240 [==============================] - 2s 6ms/step - loss: 0.3285 - accuracy: 0.9420 - val_loss: 0.2877 - val_accuracy: 0.9544\n",
      "Epoch 6/12\n",
      "240/240 [==============================] - 2s 6ms/step - loss: 0.3010 - accuracy: 0.9475 - val_loss: 0.2622 - val_accuracy: 0.9614\n",
      "Epoch 7/12\n",
      "240/240 [==============================] - 2s 6ms/step - loss: 0.2803 - accuracy: 0.9524 - val_loss: 0.2514 - val_accuracy: 0.9613\n",
      "Epoch 8/12\n",
      "240/240 [==============================] - 2s 6ms/step - loss: 0.2631 - accuracy: 0.9561 - val_loss: 0.2385 - val_accuracy: 0.9628\n",
      "Epoch 9/12\n",
      "240/240 [==============================] - 2s 7ms/step - loss: 0.2497 - accuracy: 0.9598 - val_loss: 0.2257 - val_accuracy: 0.9663\n",
      "Epoch 10/12\n",
      "240/240 [==============================] - 2s 8ms/step - loss: 0.2381 - accuracy: 0.9599 - val_loss: 0.2189 - val_accuracy: 0.9682\n",
      "Epoch 11/12\n",
      "240/240 [==============================] - 2s 10ms/step - loss: 0.2326 - accuracy: 0.9614 - val_loss: 0.2147 - val_accuracy: 0.9668\n",
      "Epoch 12/12\n",
      "240/240 [==============================] - 2s 7ms/step - loss: 0.2237 - accuracy: 0.9636 - val_loss: 0.2135 - val_accuracy: 0.9680\n"
     ]
    },
    {
     "data": {
      "text/plain": [
       "<keras.src.callbacks.History at 0x1fcdac9ad30>"
      ]
     },
     "execution_count": 12,
     "metadata": {},
     "output_type": "execute_result"
    }
   ],
   "source": [
    "NNmodel.fit(x_train,y_train,epochs=12,validation_split=0.2,batch_size=200)\n"
   ]
  },
  {
   "cell_type": "code",
   "execution_count": 13,
   "metadata": {
    "id": "ucsh4BMTCahD"
   },
   "outputs": [
    {
     "name": "stdout",
     "output_type": "stream",
     "text": [
      "313/313 [==============================] - 2s 5ms/step - loss: 0.2108 - accuracy: 0.9656\n",
      "This model predicts 96.56000137329102% of the test data correctly\n"
     ]
    }
   ],
   "source": [
    "print('This model predicts '+str(NNmodel.evaluate(x_test,y_test)[1]*100) +'% of the test data correctly')"
   ]
  },
  {
   "cell_type": "code",
   "execution_count": null,
   "metadata": {
    "id": "aRrLgOxXCahG"
   },
   "outputs": [],
   "source": [
    "pred_probs = NNmodel.predict(x_test)\n",
    "pred_probs.shape"
   ]
  },
  {
   "cell_type": "code",
   "execution_count": null,
   "metadata": {
    "id": "dcRSIEUcCahR"
   },
   "outputs": [],
   "source": [
    "np.sum(pred_probs[0,:])"
   ]
  },
  {
   "cell_type": "code",
   "execution_count": null,
   "metadata": {
    "id": "jSiGyR9QEpjR"
   },
   "outputs": [],
   "source": [
    "pred_class = np.argmax(pred_probs, axis=1)\n",
    "np.mean(pred_class==y_test)"
   ]
  },
  {
   "cell_type": "code",
   "execution_count": 14,
   "metadata": {
    "id": "rdfpHS5QCahV"
   },
   "outputs": [
    {
     "name": "stdout",
     "output_type": "stream",
     "text": [
      "WARNING:tensorflow:From C:\\Users\\ethan\\anaconda3\\lib\\site-packages\\keras\\src\\layers\\pooling\\max_pooling2d.py:161: The name tf.nn.max_pool is deprecated. Please use tf.nn.max_pool2d instead.\n",
      "\n"
     ]
    }
   ],
   "source": [
    "NNmodel2 = tf.keras.models.Sequential([\n",
    "        tf.keras.layers.Conv2D(filters=10,kernel_size=(5,5),activation=tf.nn.relu,input_shape=xshape),\n",
    "        tf.keras.layers.MaxPooling2D(pool_size = (2,2),strides=2), #stride is how many pixels you skip\n",
    "        tf.keras.layers.Flatten(), #IMPERATIVE to flatten after convoluting and max pooling\n",
    "        tf.keras.layers.Dense(128,activation=tf.nn.relu,kernel_regularizer = tf.keras.regularizers.l1(0.0002)),\n",
    "        tf.keras.layers.Dense(64,activation=tf.nn.softplus,kernel_regularizer = tf.keras.regularizers.l1(0.0005)),\n",
    "        tf.keras.layers.Dense(10,activation=tf.nn.softmax) #last layer has softmax so we get probabilities\n",
    "        ])"
   ]
  },
  {
   "cell_type": "code",
   "execution_count": null,
   "metadata": {
    "id": "2ujIj-BCAHUW"
   },
   "outputs": [],
   "source": []
  },
  {
   "cell_type": "code",
   "execution_count": 15,
   "metadata": {
    "id": "caahsRsCCahX"
   },
   "outputs": [
    {
     "name": "stdout",
     "output_type": "stream",
     "text": [
      "Model: \"sequential_1\"\n",
      "_________________________________________________________________\n",
      " Layer (type)                Output Shape              Param #   \n",
      "=================================================================\n",
      " conv2d (Conv2D)             (None, 24, 24, 10)        260       \n",
      "                                                                 \n",
      " max_pooling2d (MaxPooling2  (None, 12, 12, 10)        0         \n",
      " D)                                                              \n",
      "                                                                 \n",
      " flatten_1 (Flatten)         (None, 1440)              0         \n",
      "                                                                 \n",
      " dense_3 (Dense)             (None, 128)               184448    \n",
      "                                                                 \n",
      " dense_4 (Dense)             (None, 64)                8256      \n",
      "                                                                 \n",
      " dense_5 (Dense)             (None, 10)                650       \n",
      "                                                                 \n",
      "=================================================================\n",
      "Total params: 193614 (756.30 KB)\n",
      "Trainable params: 193614 (756.30 KB)\n",
      "Non-trainable params: 0 (0.00 Byte)\n",
      "_________________________________________________________________\n"
     ]
    }
   ],
   "source": [
    "NNmodel2.compile(optimizer='adam',\n",
    "              loss='sparse_categorical_crossentropy',\n",
    "              metrics=['accuracy'])\n",
    "\n",
    "NNmodel2.summary()"
   ]
  },
  {
   "cell_type": "code",
   "execution_count": 16,
   "metadata": {
    "id": "eVhxwOPGCahZ"
   },
   "outputs": [
    {
     "name": "stdout",
     "output_type": "stream",
     "text": [
      "Epoch 1/5\n",
      "96/96 [==============================] - 7s 45ms/step - loss: 1.6137 - accuracy: 0.8133 - val_loss: 0.9297 - val_accuracy: 0.9281\n",
      "Epoch 2/5\n",
      "96/96 [==============================] - 4s 37ms/step - loss: 0.8091 - accuracy: 0.9286 - val_loss: 0.6789 - val_accuracy: 0.9456\n",
      "Epoch 3/5\n",
      "96/96 [==============================] - 3s 34ms/step - loss: 0.6308 - accuracy: 0.9475 - val_loss: 0.5648 - val_accuracy: 0.9585\n",
      "Epoch 4/5\n",
      "96/96 [==============================] - 3s 34ms/step - loss: 0.5383 - accuracy: 0.9564 - val_loss: 0.4931 - val_accuracy: 0.9661\n",
      "Epoch 5/5\n",
      "96/96 [==============================] - 3s 35ms/step - loss: 0.4819 - accuracy: 0.9601 - val_loss: 0.4635 - val_accuracy: 0.9646\n"
     ]
    },
    {
     "data": {
      "text/plain": [
       "<keras.src.callbacks.History at 0x1fc818ef4f0>"
      ]
     },
     "execution_count": 16,
     "metadata": {},
     "output_type": "execute_result"
    }
   ],
   "source": [
    "NNmodel2.fit(x_train,y_train,epochs=5,validation_split=0.2,batch_size=500)"
   ]
  },
  {
   "cell_type": "code",
   "execution_count": 17,
   "metadata": {
    "id": "jHJL_Z56Dfp_"
   },
   "outputs": [
    {
     "name": "stdout",
     "output_type": "stream",
     "text": [
      "313/313 [==============================] - 2s 5ms/step\n"
     ]
    },
    {
     "data": {
      "text/plain": [
       "array([[1.3000311e-04, 2.7024912e-06, 4.2862017e-03, ..., 9.8329180e-01,\n",
       "        1.7900048e-04, 1.0210375e-03],\n",
       "       [5.4704380e-04, 3.9327418e-04, 9.9809343e-01, ..., 1.9853925e-08,\n",
       "        1.3572967e-04, 3.7690193e-09],\n",
       "       [1.6229493e-03, 9.7137207e-01, 3.0513471e-03, ..., 4.1863760e-03,\n",
       "        1.0501674e-02, 1.0027468e-03],\n",
       "       ...,\n",
       "       [1.8308366e-06, 3.6652068e-08, 2.5025321e-07, ..., 2.0614700e-05,\n",
       "        1.1446828e-03, 9.0668565e-03],\n",
       "       [1.3584008e-05, 5.9547037e-06, 6.4282990e-06, ..., 6.0494784e-07,\n",
       "        2.7028443e-02, 1.3014147e-05],\n",
       "       [7.9603305e-05, 1.4833226e-08, 2.1790773e-04, ..., 1.3834892e-09,\n",
       "        5.9508125e-06, 1.6235276e-08]], dtype=float32)"
      ]
     },
     "execution_count": 17,
     "metadata": {},
     "output_type": "execute_result"
    }
   ],
   "source": [
    "NNmodel2.predict(x_test)"
   ]
  },
  {
   "cell_type": "code",
   "execution_count": 18,
   "metadata": {
    "id": "YkdlAs_4CahZ"
   },
   "outputs": [
    {
     "name": "stdout",
     "output_type": "stream",
     "text": [
      "313/313 [==============================] - 2s 6ms/step\n",
      "0.964\n"
     ]
    }
   ],
   "source": [
    "pred_probs2 = NNmodel2.predict(x_test)\n",
    "pred2 = np.argmax(pred_probs2, axis=1)\n",
    "print(np.mean(pred2==y_test))"
   ]
  },
  {
   "cell_type": "code",
   "execution_count": null,
   "metadata": {
    "id": "QMkAlcNTA-1t"
   },
   "outputs": [],
   "source": []
  }
 ],
 "metadata": {
  "colab": {
   "provenance": []
  },
  "kernelspec": {
   "display_name": "Python 3 (ipykernel)",
   "language": "python",
   "name": "python3"
  },
  "language_info": {
   "codemirror_mode": {
    "name": "ipython",
    "version": 3
   },
   "file_extension": ".py",
   "mimetype": "text/x-python",
   "name": "python",
   "nbconvert_exporter": "python",
   "pygments_lexer": "ipython3",
   "version": "3.9.13"
  }
 },
 "nbformat": 4,
 "nbformat_minor": 1
}
