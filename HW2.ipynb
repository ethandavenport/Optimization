{
 "cells": [
  {
   "cell_type": "code",
   "execution_count": 1,
   "id": "8aa34d09",
   "metadata": {},
   "outputs": [],
   "source": [
    "import gurobipy as gp\n",
    "import numpy as np"
   ]
  },
  {
   "cell_type": "code",
   "execution_count": 2,
   "id": "8f87ee47",
   "metadata": {},
   "outputs": [],
   "source": [
    "# Question 2"
   ]
  },
  {
   "cell_type": "code",
   "execution_count": 3,
   "id": "121ce5e6",
   "metadata": {},
   "outputs": [
    {
     "name": "stdout",
     "output_type": "stream",
     "text": [
      "Set parameter Username\n",
      "Academic license - for non-commercial use only - expires 2024-08-21\n"
     ]
    }
   ],
   "source": [
    "facMod=gp.Model()\n",
    "facModX = facMod.addMVar(4, vtype = 'B')"
   ]
  },
  {
   "cell_type": "code",
   "execution_count": 4,
   "id": "f9807917",
   "metadata": {},
   "outputs": [],
   "source": [
    "capital = [6,3,5,2]\n",
    "profit = [9,5,6,4]"
   ]
  },
  {
   "cell_type": "code",
   "execution_count": 5,
   "id": "cab18879",
   "metadata": {},
   "outputs": [],
   "source": [
    "facMod.setObjective(gp.quicksum(profit[i]*facModX[i] for i in range(4)),sense=gp.GRB.MAXIMIZE)"
   ]
  },
  {
   "cell_type": "code",
   "execution_count": 6,
   "id": "1fbde96c",
   "metadata": {},
   "outputs": [
    {
     "data": {
      "text/plain": [
       "<MConstr () *awaiting model update*>"
      ]
     },
     "execution_count": 6,
     "metadata": {},
     "output_type": "execute_result"
    }
   ],
   "source": [
    "facMod.addConstr(gp.quicksum(capital[i]*facModX[i] for i in range(4)) <= 11) #capital capacity\n",
    "#facMod.addConstr(facModX[0] + facModX[2] <= 1) #up to one facility in Austin\n",
    "#facMod.addConstr(facModX[1] + facModX[3] <= 1) #up to one facility in Dallas\n",
    "facMod.addConstr(facModX[0] + facModX[1] >= 1) #at least one factory \n",
    "facMod.addConstr(facModX[2] + facModX[3] <= 1) #at most one warehouse"
   ]
  },
  {
   "cell_type": "code",
   "execution_count": 7,
   "id": "7c25fd65",
   "metadata": {},
   "outputs": [],
   "source": [
    "facMod.Params.OutputFlag = 0  #tell gurobi to shut up!!\n",
    "facMod.optimize() # solve the model"
   ]
  },
  {
   "cell_type": "code",
   "execution_count": 8,
   "id": "79abc2bb",
   "metadata": {},
   "outputs": [
    {
     "data": {
      "text/plain": [
       "18.0"
      ]
     },
     "execution_count": 8,
     "metadata": {},
     "output_type": "execute_result"
    }
   ],
   "source": [
    "facMod.ObjVal"
   ]
  },
  {
   "cell_type": "code",
   "execution_count": 9,
   "id": "0bc2494f",
   "metadata": {},
   "outputs": [
    {
     "name": "stdout",
     "output_type": "stream",
     "text": [
      "[1. 1. 0. 1.]\n"
     ]
    }
   ],
   "source": [
    "print(facModX.x)"
   ]
  },
  {
   "cell_type": "code",
   "execution_count": 10,
   "id": "53886873",
   "metadata": {},
   "outputs": [],
   "source": [
    "# Question 3"
   ]
  },
  {
   "cell_type": "code",
   "execution_count": 11,
   "id": "a2b0e4f3",
   "metadata": {},
   "outputs": [],
   "source": [
    "hubMod=gp.Model()\n",
    "hubModX = hubMod.addMVar(12, vtype = 'B')"
   ]
  },
  {
   "cell_type": "code",
   "execution_count": 12,
   "id": "a8552d79",
   "metadata": {},
   "outputs": [],
   "source": [
    "matrix = [[1,0,1,0,1,0,1,1,1,0,0,0],\n",
    "          [0,1,0,0,0,0,0,1,1,0,0,0],\n",
    "          [1,0,1,0,0,0,1,1,1,0,0,0],\n",
    "          [0,0,0,1,0,0,0,0,0,1,0,0],\n",
    "          [1,0,0,0,1,0,1,0,0,0,0,0],\n",
    "          [0,0,0,0,0,1,0,0,0,1,1,0],\n",
    "          [1,0,1,0,1,0,1,0,0,0,0,0],\n",
    "          [1,1,1,0,0,0,0,1,1,0,0,0],\n",
    "          [1,1,1,0,0,0,0,1,1,0,0,0],\n",
    "          [0,0,0,1,0,1,0,0,0,1,1,1],\n",
    "          [0,0,0,0,0,1,0,0,0,1,1,1],\n",
    "          [0,0,0,0,0,0,0,0,0,1,1,1]]"
   ]
  },
  {
   "cell_type": "code",
   "execution_count": 13,
   "id": "f5953518",
   "metadata": {},
   "outputs": [],
   "source": [
    "hubMod.setObjective(gp.quicksum(hubModX[i] for i in range(12)),sense=gp.GRB.MINIMIZE)"
   ]
  },
  {
   "cell_type": "code",
   "execution_count": 14,
   "id": "1cb720d4",
   "metadata": {},
   "outputs": [
    {
     "name": "stdout",
     "output_type": "stream",
     "text": [
      "Warning for adding constraints: zero or small (< 1e-13) coefficients, ignored\n"
     ]
    },
    {
     "data": {
      "text/plain": [
       "{0: <MConstr ()>,\n",
       " 1: <MConstr () *awaiting model update*>,\n",
       " 2: <MConstr () *awaiting model update*>,\n",
       " 3: <MConstr () *awaiting model update*>,\n",
       " 4: <MConstr () *awaiting model update*>,\n",
       " 5: <MConstr () *awaiting model update*>,\n",
       " 6: <MConstr () *awaiting model update*>,\n",
       " 7: <MConstr () *awaiting model update*>,\n",
       " 8: <MConstr () *awaiting model update*>,\n",
       " 9: <MConstr () *awaiting model update*>,\n",
       " 10: <MConstr () *awaiting model update*>,\n",
       " 11: <MConstr () *awaiting model update*>}"
      ]
     },
     "execution_count": 14,
     "metadata": {},
     "output_type": "execute_result"
    }
   ],
   "source": [
    "hubMod.addConstrs((gp.quicksum(hubModX[i]*matrix[i][j] for i in range(12)) >= 1) for j in range(12))"
   ]
  },
  {
   "cell_type": "code",
   "execution_count": 15,
   "id": "832ce794",
   "metadata": {},
   "outputs": [],
   "source": [
    "hubMod.Params.OutputFlag = 0  #tell gurobi to shut up!!\n",
    "hubMod.optimize() # solve the model"
   ]
  },
  {
   "cell_type": "code",
   "execution_count": 16,
   "id": "b285f7d0",
   "metadata": {},
   "outputs": [
    {
     "data": {
      "text/plain": [
       "3.0"
      ]
     },
     "execution_count": 16,
     "metadata": {},
     "output_type": "execute_result"
    }
   ],
   "source": [
    "hubMod.ObjVal"
   ]
  },
  {
   "cell_type": "code",
   "execution_count": 17,
   "id": "1e98c813",
   "metadata": {},
   "outputs": [
    {
     "name": "stdout",
     "output_type": "stream",
     "text": [
      "[1. 0. 0. 0. 0. 0. 0. 0. 1. 1. 0. 0.]\n"
     ]
    }
   ],
   "source": [
    "print(hubModX.x) #ATL, PIT, and SLC"
   ]
  },
  {
   "cell_type": "code",
   "execution_count": 18,
   "id": "9a321e66",
   "metadata": {},
   "outputs": [],
   "source": [
    "# Question 4"
   ]
  },
  {
   "cell_type": "code",
   "execution_count": 19,
   "id": "15869519",
   "metadata": {},
   "outputs": [],
   "source": [
    "paperMod=gp.Model()\n",
    "paperModX = paperMod.addMVar(18, vtype = 'I')"
   ]
  },
  {
   "cell_type": "code",
   "execution_count": 21,
   "id": "2d270a15",
   "metadata": {},
   "outputs": [
    {
     "name": "stdout",
     "output_type": "stream",
     "text": [
      "[0, 0, 0]\n",
      "[0, 0, 1]\n",
      "[0, 0, 2]\n",
      "[0, 1, 0]\n",
      "[0, 1, 1]\n",
      "[0, 2, 0]\n",
      "[0, 3, 0]\n",
      "[1, 0, 0]\n",
      "[1, 0, 1]\n",
      "[1, 1, 0]\n",
      "[1, 1, 1]\n",
      "[1, 2, 0]\n",
      "[2, 0, 0]\n",
      "[2, 0, 1]\n",
      "[2, 1, 0]\n",
      "[3, 0, 0]\n",
      "[3, 1, 0]\n",
      "[4, 0, 0]\n"
     ]
    },
    {
     "data": {
      "text/plain": [
       "[120, 66, 12, 83, 29, 46, 9, 95, 41, 58, 4, 21, 70, 16, 33, 45, 8, 20]"
      ]
     },
     "execution_count": 21,
     "metadata": {},
     "output_type": "execute_result"
    }
   ],
   "source": [
    "import itertools\n",
    "\n",
    "# Define the prices of your three products\n",
    "product_prices = [25, 37, 54]\n",
    "\n",
    "# Define your budget\n",
    "budget = 120\n",
    "\n",
    "# Initialize an empty matrix to store combinations\n",
    "combinations_matrix = []\n",
    "\n",
    "# Loop through all possible quantities of each product\n",
    "for quantity_1 in range(budget // product_prices[0] + 1):\n",
    "    for quantity_2 in range(budget // product_prices[1] + 1):\n",
    "        for quantity_3 in range(budget // product_prices[2] + 1):\n",
    "            # Calculate the total cost for the current combination\n",
    "            total_cost = (\n",
    "                quantity_1 * product_prices[0] +\n",
    "                quantity_2 * product_prices[1] +\n",
    "                quantity_3 * product_prices[2]\n",
    "            )\n",
    "            \n",
    "            # Check if the total cost is within the budget\n",
    "            if total_cost <= budget:\n",
    "                # Add the current combination to the matrix\n",
    "                combinations_matrix.append([quantity_1, quantity_2, quantity_3])\n",
    "\n",
    "# Print the matrix of combinations\n",
    "for combination in combinations_matrix:\n",
    "    print(combination)\n",
    "    \n",
    "wasteage = [budget - (combination[0]*product_prices[0] + combination[1]*product_prices[1] + combination[2]*product_prices[2])\n",
    "            for combination in combinations_matrix]\n",
    "wasteage"
   ]
  },
  {
   "cell_type": "code",
   "execution_count": 24,
   "id": "6386bdcc",
   "metadata": {},
   "outputs": [],
   "source": [
    "width = [25,37,54]\n",
    "quantity = [233,148,106]\n",
    "\n",
    "opts = [[4,0,0],\n",
    "        [3,1,0],\n",
    "        [2,0,1],\n",
    "        [1,2,0],\n",
    "        [1,1,1],\n",
    "        [0,3,0],\n",
    "        [0,1,1],\n",
    "        [0,0,2]]"
   ]
  },
  {
   "cell_type": "code",
   "execution_count": 22,
   "id": "130f548f",
   "metadata": {},
   "outputs": [],
   "source": [
    "paperMod.setObjective(gp.quicksum(paperModX[i]*wasteage[i] for i in range(18)),sense=gp.GRB.MINIMIZE)"
   ]
  },
  {
   "cell_type": "code",
   "execution_count": 25,
   "id": "5fd52c7d",
   "metadata": {},
   "outputs": [
    {
     "name": "stdout",
     "output_type": "stream",
     "text": [
      "Warning for adding constraints: zero or small (< 1e-13) coefficients, ignored\n"
     ]
    },
    {
     "data": {
      "text/plain": [
       "{0: <MConstr ()>,\n",
       " 1: <MConstr () *awaiting model update*>,\n",
       " 2: <MConstr () *awaiting model update*>}"
      ]
     },
     "execution_count": 25,
     "metadata": {},
     "output_type": "execute_result"
    }
   ],
   "source": [
    "paperMod.addConstrs((gp.quicksum(paperModX[i]*combinations_matrix[i][j] for i in range(18)) >= quantity[j]) for j in range(3))"
   ]
  },
  {
   "cell_type": "code",
   "execution_count": 26,
   "id": "2529725b",
   "metadata": {},
   "outputs": [],
   "source": [
    "paperMod.Params.OutputFlag = 0  #tell gurobi to shut up!!\n",
    "paperMod.optimize() # solve the model"
   ]
  },
  {
   "cell_type": "code",
   "execution_count": 27,
   "id": "81f691e2",
   "metadata": {},
   "outputs": [
    {
     "data": {
      "text/plain": [
       "764.0"
      ]
     },
     "execution_count": 27,
     "metadata": {},
     "output_type": "execute_result"
    }
   ],
   "source": [
    "paperMod.ObjVal"
   ]
  },
  {
   "cell_type": "code",
   "execution_count": 28,
   "id": "bba880b3",
   "metadata": {},
   "outputs": [
    {
     "name": "stdout",
     "output_type": "stream",
     "text": [
      "[ -0.  -0.  -0.  -0.  -0.  -0.  -0.  -0.  -0.  -0. 107.  -0.  -0.  -0.\n",
      "  -0.  -0.  42.  -0.]\n"
     ]
    }
   ],
   "source": [
    "print(paperModX.x)"
   ]
  },
  {
   "cell_type": "code",
   "execution_count": null,
   "id": "b708dc30",
   "metadata": {},
   "outputs": [],
   "source": [
    "# Question 5"
   ]
  },
  {
   "cell_type": "code",
   "execution_count": 29,
   "id": "900e91ae",
   "metadata": {},
   "outputs": [],
   "source": [
    "dosMod=gp.Model()\n",
    "dosModX = dosMod.addMVar(7, vtype = 'I')"
   ]
  },
  {
   "cell_type": "code",
   "execution_count": 30,
   "id": "e9a4400d",
   "metadata": {},
   "outputs": [],
   "source": [
    "cost = [330,300,330,360,360,360,360]\n",
    "required = [5,13,12,10,14,8,6]"
   ]
  },
  {
   "cell_type": "code",
   "execution_count": 31,
   "id": "c13cd7a9",
   "metadata": {},
   "outputs": [],
   "source": [
    "dosMod.setObjective(gp.quicksum(cost[i]*dosModX[i] for i in range(7)),sense=gp.GRB.MINIMIZE)"
   ]
  },
  {
   "cell_type": "code",
   "execution_count": 32,
   "id": "03ec490f",
   "metadata": {},
   "outputs": [
    {
     "data": {
      "text/plain": [
       "<MConstr () *awaiting model update*>"
      ]
     },
     "execution_count": 32,
     "metadata": {},
     "output_type": "execute_result"
    }
   ],
   "source": [
    "dosMod.addConstrs((sum(dosModX[:]) - sum(dosModX[i+1:i+3]) >= required[i]) for i in range(5))\n",
    "dosMod.addConstr(sum(dosModX[1:6]) >= required[5])\n",
    "dosMod.addConstr(sum(dosModX[2:]) >= required[6])"
   ]
  },
  {
   "cell_type": "code",
   "execution_count": 33,
   "id": "95e47497",
   "metadata": {},
   "outputs": [],
   "source": [
    "dosMod.Params.OutputFlag = 0  #tell gurobi to shut up!!\n",
    "dosMod.optimize() # solve the model"
   ]
  },
  {
   "cell_type": "code",
   "execution_count": 34,
   "id": "7abafb60",
   "metadata": {},
   "outputs": [
    {
     "data": {
      "text/plain": [
       "4830.0"
      ]
     },
     "execution_count": 34,
     "metadata": {},
     "output_type": "execute_result"
    }
   ],
   "source": [
    "dosMod.ObjVal"
   ]
  },
  {
   "cell_type": "code",
   "execution_count": 35,
   "id": "7e9929e5",
   "metadata": {},
   "outputs": [
    {
     "name": "stdout",
     "output_type": "stream",
     "text": [
      "[ 1.  8.  2. -0.  3.  1. -0.]\n"
     ]
    }
   ],
   "source": [
    "print(dosModX.x)"
   ]
  }
 ],
 "metadata": {
  "kernelspec": {
   "display_name": "Python 3 (ipykernel)",
   "language": "python",
   "name": "python3"
  },
  "language_info": {
   "codemirror_mode": {
    "name": "ipython",
    "version": 3
   },
   "file_extension": ".py",
   "mimetype": "text/x-python",
   "name": "python",
   "nbconvert_exporter": "python",
   "pygments_lexer": "ipython3",
   "version": "3.9.13"
  }
 },
 "nbformat": 4,
 "nbformat_minor": 5
}
