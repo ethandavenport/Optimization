{
 "cells": [
  {
   "cell_type": "code",
   "execution_count": null,
   "id": "aa3c89d7",
   "metadata": {},
   "outputs": [],
   "source": [
    "#!pip install gurobipy"
   ]
  },
  {
   "cell_type": "code",
   "execution_count": 1,
   "id": "307908c3",
   "metadata": {},
   "outputs": [],
   "source": [
    "import numpy as np\n",
    "import gurobipy as gp"
   ]
  },
  {
   "cell_type": "markdown",
   "id": "bc8ed129",
   "metadata": {},
   "source": [
    "# Factory Problem"
   ]
  },
  {
   "cell_type": "code",
   "execution_count": 2,
   "id": "cef009bb",
   "metadata": {},
   "outputs": [],
   "source": [
    "howmanyub = [5,4,5,7,3]\n",
    "costper = [5,7,6,4,8]\n",
    "buildcost = [25,35,28,20,40]\n",
    "profitper = [10,18,11,9,10]\n",
    "\n"
   ]
  },
  {
   "cell_type": "code",
   "execution_count": 3,
   "id": "03f1e855",
   "metadata": {},
   "outputs": [],
   "source": [
    "M = 10 # HOW DO WE PICK M?!?!?!"
   ]
  },
  {
   "cell_type": "code",
   "execution_count": 4,
   "id": "c265286f",
   "metadata": {},
   "outputs": [
    {
     "name": "stdout",
     "output_type": "stream",
     "text": [
      "Set parameter Username\n",
      "Academic license - for non-commercial use only - expires 2024-08-21\n"
     ]
    }
   ],
   "source": [
    "bimod2 = gp.Model()\n",
    "howmanyx = bimod2.addMVar(5,ub=howmanyub)\n",
    "buildx = bimod2.addMVar(5,vtype='B')"
   ]
  },
  {
   "cell_type": "code",
   "execution_count": 5,
   "id": "7fb44c8a",
   "metadata": {},
   "outputs": [],
   "source": [
    "bimod2.setObjective(gp.quicksum(howmanyx[i]*profitper[i] - buildx[i]*buildcost[i] for i in range(5)),sense=gp.GRB.MAXIMIZE)\n"
   ]
  },
  {
   "cell_type": "code",
   "execution_count": 6,
   "id": "9c6a52ad",
   "metadata": {},
   "outputs": [],
   "source": [
    "budgetcon = bimod2.addConstr(gp.quicksum(costper[i]*howmanyx[i] + buildcost[i]*buildx[i] for i in range(5))  <= 125)\n",
    "bigMcons = bimod2.addConstrs((howmanyx[i] <= M*buildx[i]) for i in range(5))\n",
    "\n"
   ]
  },
  {
   "cell_type": "code",
   "execution_count": 7,
   "id": "793a92e3",
   "metadata": {},
   "outputs": [
    {
     "name": "stdout",
     "output_type": "stream",
     "text": [
      "[0. 4. 0. 7. 0.]\n"
     ]
    }
   ],
   "source": [
    "bimod2.Params.OutputFlag = 0 # tell gurobi to shut up!!\n",
    "bimod2.optimize()\n",
    "\n",
    "print(howmanyx.x)"
   ]
  },
  {
   "cell_type": "code",
   "execution_count": 8,
   "id": "29848463",
   "metadata": {},
   "outputs": [
    {
     "data": {
      "text/plain": [
       "array([0., 1., 0., 1., 0.])"
      ]
     },
     "execution_count": 8,
     "metadata": {},
     "output_type": "execute_result"
    }
   ],
   "source": [
    "buildx.x"
   ]
  },
  {
   "cell_type": "code",
   "execution_count": 9,
   "id": "657557ad",
   "metadata": {},
   "outputs": [
    {
     "data": {
      "text/plain": [
       "80.0"
      ]
     },
     "execution_count": 9,
     "metadata": {},
     "output_type": "execute_result"
    }
   ],
   "source": [
    "bimod2.ObjVal"
   ]
  },
  {
   "cell_type": "code",
   "execution_count": 10,
   "id": "79b0eaf2",
   "metadata": {
    "scrolled": true
   },
   "outputs": [
    {
     "data": {
      "text/plain": [
       "<MLinExpr ()   >\n",
       "array( 25.0 C5 + 5.0 C0 + 35.0 C6 + 7.0 C1 + 28.0 C7 + 6.0 C2 + 20.0 C8 + 4.0 C3 + 40.0 C9 + 8.0 C4)"
      ]
     },
     "execution_count": 10,
     "metadata": {},
     "output_type": "execute_result"
    }
   ],
   "source": [
    "gp.quicksum(buildx[i]*buildcost[i] + howmanyx[i]*costper[i] for i in range(5))"
   ]
  },
  {
   "cell_type": "code",
   "execution_count": 11,
   "id": "204084f5",
   "metadata": {},
   "outputs": [
    {
     "data": {
      "text/plain": [
       "111.0"
      ]
     },
     "execution_count": 11,
     "metadata": {},
     "output_type": "execute_result"
    }
   ],
   "source": [
    "np.array(costper)@howmanyx.x + np.array(buildcost)@buildx.x"
   ]
  }
 ],
 "metadata": {
  "kernelspec": {
   "display_name": "Python 3 (ipykernel)",
   "language": "python",
   "name": "python3"
  },
  "language_info": {
   "codemirror_mode": {
    "name": "ipython",
    "version": 3
   },
   "file_extension": ".py",
   "mimetype": "text/x-python",
   "name": "python",
   "nbconvert_exporter": "python",
   "pygments_lexer": "ipython3",
   "version": "3.9.13"
  }
 },
 "nbformat": 4,
 "nbformat_minor": 5
}
