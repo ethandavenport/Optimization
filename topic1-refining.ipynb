{
 "cells": [
  {
   "cell_type": "code",
   "execution_count": 1,
   "id": "f7ae4d7a",
   "metadata": {},
   "outputs": [],
   "source": [
    "import numpy as np\n",
    "import gurobipy as gp"
   ]
  },
  {
   "cell_type": "code",
   "execution_count": 2,
   "id": "d93e2a37",
   "metadata": {},
   "outputs": [],
   "source": [
    "obj = np.array([20,15]) # cost for barrels of Saudi and Ven oil\n",
    "\n",
    "A = np.zeros((3,2))\n",
    "A[0,] = [0.3,0.4] # gasoline constraint\n",
    "A[1,] = [0.4,0.2] # jet fuel constraint\n",
    "A[2,] = [0.2,0.3] # lube constraint\n",
    "\n",
    "ub = np.array([9000,6000]) # saudi and ven upper bound\n",
    "\n",
    "b = np.array([2000,1500,500])"
   ]
  },
  {
   "cell_type": "code",
   "execution_count": 3,
   "id": "22544314",
   "metadata": {},
   "outputs": [
    {
     "name": "stdout",
     "output_type": "stream",
     "text": [
      "Set parameter Username\n",
      "Academic license - for non-commercial use only - expires 2024-08-21\n"
     ]
    }
   ],
   "source": [
    "refMod = gp.Model()\n",
    "refX = refMod.addMVar(len(obj),ub=ub)\n",
    "refModCon = refMod.addConstrs((gp.quicksum(refX[j]*A[i,j] for j in range(2)) >= b[i]) for i in range(3))\n",
    "refMod.setObjective(gp.quicksum(obj[j] * refX[j] for j in range(2)),sense=gp.GRB.MINIMIZE)\n",
    "refMod.Params.OutputFlag=0\n",
    "refMod.optimize()"
   ]
  },
  {
   "cell_type": "code",
   "execution_count": 4,
   "id": "8fa31d97",
   "metadata": {},
   "outputs": [
    {
     "data": {
      "text/plain": [
       "[1999.9999999999993, 3500.000000000001]"
      ]
     },
     "execution_count": 4,
     "metadata": {},
     "output_type": "execute_result"
    }
   ],
   "source": [
    "refMod.x"
   ]
  },
  {
   "cell_type": "code",
   "execution_count": 5,
   "id": "43c49736",
   "metadata": {},
   "outputs": [
    {
     "data": {
      "text/plain": [
       "92500.0"
      ]
     },
     "execution_count": 5,
     "metadata": {},
     "output_type": "execute_result"
    }
   ],
   "source": [
    "refMod.objVal"
   ]
  },
  {
   "cell_type": "code",
   "execution_count": null,
   "id": "27033d33",
   "metadata": {},
   "outputs": [],
   "source": [
    "# Class Participation 9/20"
   ]
  },
  {
   "cell_type": "code",
   "execution_count": 8,
   "id": "3052b578",
   "metadata": {},
   "outputs": [
    {
     "data": {
      "text/plain": [
       "[30.0, 26.666666666666668]"
      ]
     },
     "execution_count": 8,
     "metadata": {},
     "output_type": "execute_result"
    }
   ],
   "source": [
    "# upper bounds for price of crude such that you would purchase same number of barrels\n",
    "# Saudi and Venezuelan oil, respectively\n",
    "refMod.SAObjUp"
   ]
  },
  {
   "cell_type": "code",
   "execution_count": 14,
   "id": "a007a724",
   "metadata": {},
   "outputs": [
    {
     "data": {
      "text/plain": [
       "[11.25, 10.0]"
      ]
     },
     "execution_count": 14,
     "metadata": {},
     "output_type": "execute_result"
    }
   ],
   "source": [
    "# lower bounds for price of crude such that you would purchase same number of barrels (if desired)\n",
    "refMod.SAObjLow"
   ]
  },
  {
   "cell_type": "code",
   "execution_count": 13,
   "id": "041bbdbc",
   "metadata": {},
   "outputs": [
    {
     "data": {
      "text/plain": [
       "array(0.)"
      ]
     },
     "execution_count": 13,
     "metadata": {},
     "output_type": "execute_result"
    }
   ],
   "source": [
    "# the shadow price is zero, so this is a nonbinding constraint\n",
    "refModCon[2].Pi"
   ]
  },
  {
   "cell_type": "code",
   "execution_count": 15,
   "id": "9cd5649e",
   "metadata": {},
   "outputs": [
    {
     "data": {
      "text/plain": [
       "[array(20.), array(35.), array(0.)]"
      ]
     },
     "execution_count": 15,
     "metadata": {},
     "output_type": "execute_result"
    }
   ],
   "source": [
    "[refModCon[i].Pi for i in range(3)]"
   ]
  },
  {
   "cell_type": "code",
   "execution_count": null,
   "id": "72c19f95",
   "metadata": {},
   "outputs": [],
   "source": []
  }
 ],
 "metadata": {
  "kernelspec": {
   "display_name": "Python 3 (ipykernel)",
   "language": "python",
   "name": "python3"
  },
  "language_info": {
   "codemirror_mode": {
    "name": "ipython",
    "version": 3
   },
   "file_extension": ".py",
   "mimetype": "text/x-python",
   "name": "python",
   "nbconvert_exporter": "python",
   "pygments_lexer": "ipython3",
   "version": "3.9.13"
  }
 },
 "nbformat": 4,
 "nbformat_minor": 5
}
