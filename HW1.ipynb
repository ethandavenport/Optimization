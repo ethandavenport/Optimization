{
 "cells": [
  {
   "cell_type": "code",
   "execution_count": 4,
   "id": "9e1d781f",
   "metadata": {},
   "outputs": [],
   "source": [
    "import numpy as np\n",
    "import gurobipy as gp"
   ]
  },
  {
   "cell_type": "code",
   "execution_count": null,
   "id": "83049121",
   "metadata": {},
   "outputs": [],
   "source": [
    "# Question 1"
   ]
  },
  {
   "cell_type": "code",
   "execution_count": 173,
   "id": "7b46ce22",
   "metadata": {},
   "outputs": [],
   "source": [
    "pieMod=gp.Model()\n",
    "pieModX = pieMod.addMVar(2)\n",
    "pieMod.setObjective(4*pieModX[0] + 5*pieModX[1],sense=gp.GRB.MAXIMIZE)"
   ]
  },
  {
   "cell_type": "code",
   "execution_count": 174,
   "id": "dca500c5",
   "metadata": {},
   "outputs": [],
   "source": [
    "conlist=[0]*2\n",
    "\n",
    "conlist[0] = pieMod.addConstr(2*pieModX[0] + 3*pieModX[1] <= 60) #time capacity\n",
    "conlist[1] = pieMod.addConstr(pieModX[1] >= pieModX[0]) #at least as many pies as tortes"
   ]
  },
  {
   "cell_type": "code",
   "execution_count": 175,
   "id": "722cc6b4",
   "metadata": {},
   "outputs": [],
   "source": [
    "pieMod.Params.OutputFlag = 0  #tell gurobi to shut up!!\n",
    "\n",
    "pieMod.optimize() # solve the model"
   ]
  },
  {
   "cell_type": "code",
   "execution_count": 176,
   "id": "e490dc54",
   "metadata": {},
   "outputs": [
    {
     "data": {
      "text/plain": [
       "108.0"
      ]
     },
     "execution_count": 176,
     "metadata": {},
     "output_type": "execute_result"
    }
   ],
   "source": [
    "pieMod.objVal # print the optimal objective value"
   ]
  },
  {
   "cell_type": "code",
   "execution_count": 177,
   "id": "39ce43d8",
   "metadata": {},
   "outputs": [
    {
     "data": {
      "text/plain": [
       "array([12., 12.])"
      ]
     },
     "execution_count": 177,
     "metadata": {},
     "output_type": "execute_result"
    }
   ],
   "source": [
    "pieModX.x # print the optimal decision variables"
   ]
  },
  {
   "cell_type": "code",
   "execution_count": null,
   "id": "e29f5249",
   "metadata": {},
   "outputs": [],
   "source": [
    "# Question 2"
   ]
  },
  {
   "cell_type": "code",
   "execution_count": 5,
   "id": "01ea990e",
   "metadata": {},
   "outputs": [
    {
     "name": "stdout",
     "output_type": "stream",
     "text": [
      "Set parameter Username\n",
      "Academic license - for non-commercial use only - expires 2024-08-21\n"
     ]
    }
   ],
   "source": [
    "farmMod=gp.Model()\n",
    "farmModX = farmMod.addMVar(2)"
   ]
  },
  {
   "cell_type": "code",
   "execution_count": 11,
   "id": "832356b8",
   "metadata": {},
   "outputs": [],
   "source": [
    "farmMod.setObjective(2000*farmModX[0] + 3000*farmModX[1],sense=gp.GRB.MAXIMIZE) # profit for an acre of wheat and corn\n",
    "\n",
    "conlist=[0]*3\n",
    "conlist[0] = farmMod.addConstr(3*farmModX[0] + 2*farmModX[1] <= 1000) #workers capacity\n",
    "conlist[0] = farmMod.addConstr(2*farmModX[0] + 4*farmModX[1] <= 1700) #fertilizer capacity\n",
    "conlist[0] = farmMod.addConstr(farmModX[0] + farmModX[1] <= 450) #area capacity"
   ]
  },
  {
   "cell_type": "code",
   "execution_count": 12,
   "id": "671e8238",
   "metadata": {},
   "outputs": [],
   "source": [
    "farmMod.Params.OutputFlag = 0  #tell gurobi to shut up!!\n",
    "\n",
    "farmMod.optimize() # solve the model"
   ]
  },
  {
   "cell_type": "code",
   "execution_count": 13,
   "id": "5247af82",
   "metadata": {},
   "outputs": [
    {
     "data": {
      "text/plain": [
       "1300000.0"
      ]
     },
     "execution_count": 13,
     "metadata": {},
     "output_type": "execute_result"
    }
   ],
   "source": [
    "farmMod.objVal # print the optimal objective value"
   ]
  },
  {
   "cell_type": "code",
   "execution_count": 14,
   "id": "ffb35779",
   "metadata": {},
   "outputs": [
    {
     "data": {
      "text/plain": [
       "array([ 50., 400.])"
      ]
     },
     "execution_count": 14,
     "metadata": {},
     "output_type": "execute_result"
    }
   ],
   "source": [
    "farmModX.x # print the optimal decision variables"
   ]
  },
  {
   "cell_type": "code",
   "execution_count": null,
   "id": "0bd339b0",
   "metadata": {},
   "outputs": [],
   "source": [
    "# Question 3"
   ]
  },
  {
   "cell_type": "code",
   "execution_count": 113,
   "id": "543249a6",
   "metadata": {},
   "outputs": [],
   "source": [
    "obj = np.array([13,16,16,14,39]) # NPV for investments 1-5\n",
    "\n",
    "A = np.zeros((2,5))\n",
    "A[0,] = [11,53,5,5,29] # time 0 cash outflows\n",
    "A[1,] = [3,6,5,1,34] # time 1 cash outflows\n",
    "\n",
    "ub = np.array([1,1,1,1,1])\n",
    "\n",
    "b = np.array([40,20]) # time 0 and time 1 upper bound"
   ]
  },
  {
   "cell_type": "code",
   "execution_count": 114,
   "id": "c1fbef07",
   "metadata": {},
   "outputs": [],
   "source": [
    "invMod = gp.Model()\n",
    "invX = invMod.addMVar(len(obj),ub=ub)\n",
    "\n",
    "invModCon = invMod.addConstrs((gp.quicksum(invX[j]*A[i,j] for j in range(5)) <= b[i]) for i in range(2))\n",
    "invMod.setObjective(gp.quicksum(obj[j] * invX[j] for j in range(5)),sense=gp.GRB.MAXIMIZE)\n",
    "\n",
    "invMod.Params.OutputFlag=0\n",
    "invMod.optimize()"
   ]
  },
  {
   "cell_type": "code",
   "execution_count": 115,
   "id": "a4f5219b",
   "metadata": {},
   "outputs": [
    {
     "data": {
      "text/plain": [
       "57.449017199017206"
      ]
     },
     "execution_count": 115,
     "metadata": {},
     "output_type": "execute_result"
    }
   ],
   "source": [
    "invMod.objVal"
   ]
  },
  {
   "cell_type": "code",
   "execution_count": 116,
   "id": "9cbf6ec3",
   "metadata": {},
   "outputs": [
    {
     "data": {
      "text/plain": [
       "[1.0, 0.20085995085995087, 1.0, 1.0, 0.2880835380835381]"
      ]
     },
     "execution_count": 116,
     "metadata": {},
     "output_type": "execute_result"
    }
   ],
   "source": [
    "invMod.x"
   ]
  },
  {
   "cell_type": "code",
   "execution_count": null,
   "id": "f0041a27",
   "metadata": {},
   "outputs": [],
   "source": [
    "# Question 4"
   ]
  },
  {
   "cell_type": "code",
   "execution_count": 163,
   "id": "c9aa2e9e",
   "metadata": {},
   "outputs": [],
   "source": [
    "obj = np.array([0.18,0.23,0.05]) # cost for corn, milk, and bread\n",
    "\n",
    "A = np.zeros((2,3))\n",
    "A[0,] = [107,500,0] # vitamins\n",
    "A[1,] = [72,121,65] # calories\n",
    "\n",
    "ub = np.array([10,10,10])\n",
    "\n",
    "lower = np.array([5000,2000]) # lower bounds\n",
    "upper = np.array([50000,2250]) # upper bounds"
   ]
  },
  {
   "cell_type": "code",
   "execution_count": 164,
   "id": "388cf7c5",
   "metadata": {},
   "outputs": [
    {
     "name": "stdout",
     "output_type": "stream",
     "text": [
      "Warning for adding constraints: zero or small (< 1e-13) coefficients, ignored\n"
     ]
    }
   ],
   "source": [
    "foodMod = gp.Model()\n",
    "foodX = foodMod.addMVar(len(obj),ub=ub)\n",
    "\n",
    "foodMod.addConstrs((gp.quicksum(foodX[j]*A[i,j] for j in range(3)) >= lower[i]) for i in range(2))\n",
    "foodMod.addConstrs((gp.quicksum(foodX[j]*A[i,j] for j in range(3)) <= upper[i]) for i in range(2))\n",
    "foodMod.setObjective(gp.quicksum(obj[j] * foodX[j] for j in range(3)),sense=gp.GRB.MINIMIZE)\n",
    "\n",
    "foodMod.Params.OutputFlag=0\n",
    "foodMod.optimize()"
   ]
  },
  {
   "cell_type": "code",
   "execution_count": 165,
   "id": "8b72e7d9",
   "metadata": {},
   "outputs": [
    {
     "data": {
      "text/plain": [
       "2"
      ]
     },
     "execution_count": 165,
     "metadata": {},
     "output_type": "execute_result"
    }
   ],
   "source": [
    "foodMod.status"
   ]
  },
  {
   "cell_type": "code",
   "execution_count": 166,
   "id": "39b3b2d3",
   "metadata": {
    "scrolled": false
   },
   "outputs": [
    {
     "data": {
      "text/plain": [
       "3.1500000000000004"
      ]
     },
     "execution_count": 166,
     "metadata": {},
     "output_type": "execute_result"
    }
   ],
   "source": [
    "foodMod.objVal"
   ]
  },
  {
   "cell_type": "code",
   "execution_count": 167,
   "id": "17325002",
   "metadata": {},
   "outputs": [
    {
     "data": {
      "text/plain": [
       "[1.9444444444444444, 10.0, 10.0]"
      ]
     },
     "execution_count": 167,
     "metadata": {},
     "output_type": "execute_result"
    }
   ],
   "source": [
    "foodMod.x"
   ]
  },
  {
   "cell_type": "code",
   "execution_count": null,
   "id": "f0cba726",
   "metadata": {},
   "outputs": [],
   "source": [
    "# Question 5"
   ]
  },
  {
   "cell_type": "code",
   "execution_count": 169,
   "id": "8c3a33b3",
   "metadata": {},
   "outputs": [],
   "source": [
    "obj = np.zeros((3,2))\n",
    "obj[0,] = [1,1] # woods available for harvest in year 1\n",
    "obj[1,] = [1.3,1.2] # woods available for harvest in year 2\n",
    "obj[2,] = [1.4,1.6] # woods available for harvest in year 3\n",
    "\n",
    "A = np.zeros((3,2))\n",
    "A[0,] = [1,1]\n",
    "A[1,] = [1,1]\n",
    "A[2,] = [1,1]\n",
    "\n",
    "lower = np.array([1.2,1.5,2]) # lower bounds\n",
    "upper = np.array([2,2,3]) # upper bounds"
   ]
  },
  {
   "cell_type": "code",
   "execution_count": 170,
   "id": "e3d2fb1b",
   "metadata": {
    "scrolled": true
   },
   "outputs": [],
   "source": [
    "woodMod = gp.Model()\n",
    "woodX = woodMod.addMVar((3,2))\n",
    "\n",
    "lcons = woodMod.addConstrs((gp.quicksum(woodX[i,j]*obj[i,j] for j in range(2)) >= lower[i]) for i in range(3))\n",
    "ucons = woodMod.addConstrs((gp.quicksum(woodX[i,j]*obj[i,j] for j in range(2)) <= upper[i]) for i in range(3))\n",
    "\n",
    "woodMod.addConstr(gp.quicksum(woodX[i][0] for i in range(3)) <= 2)\n",
    "woodMod.addConstr(gp.quicksum(woodX[i][1] for i in range(3)) <= 3)\n",
    "\n",
    "woodMod.setObjective(gp.quicksum(obj[i,j] * woodX[i,j] for i in range(3) for j in range(2)),sense=gp.GRB.MAXIMIZE)\n",
    "\n",
    "woodMod.Params.OutputFlag=0\n",
    "woodMod.optimize()"
   ]
  },
  {
   "cell_type": "code",
   "execution_count": 171,
   "id": "a94dd426",
   "metadata": {},
   "outputs": [
    {
     "data": {
      "text/plain": [
       "6.586538461538462"
      ]
     },
     "execution_count": 171,
     "metadata": {},
     "output_type": "execute_result"
    }
   ],
   "source": [
    "woodMod.objVal"
   ]
  },
  {
   "cell_type": "code",
   "execution_count": 172,
   "id": "5ad8aa1e",
   "metadata": {},
   "outputs": [
    {
     "data": {
      "text/plain": [
       "[0.4615384615384617, 1.125, 1.5384615384615383, 0.0, 0.0, 1.875]"
      ]
     },
     "execution_count": 172,
     "metadata": {},
     "output_type": "execute_result"
    }
   ],
   "source": [
    "woodMod.x"
   ]
  }
 ],
 "metadata": {
  "kernelspec": {
   "display_name": "Python 3 (ipykernel)",
   "language": "python",
   "name": "python3"
  },
  "language_info": {
   "codemirror_mode": {
    "name": "ipython",
    "version": 3
   },
   "file_extension": ".py",
   "mimetype": "text/x-python",
   "name": "python",
   "nbconvert_exporter": "python",
   "pygments_lexer": "ipython3",
   "version": "3.9.13"
  }
 },
 "nbformat": 4,
 "nbformat_minor": 5
}
